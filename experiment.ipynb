{
 "cells": [
  {
   "cell_type": "code",
   "execution_count": null,
   "metadata": {},
   "outputs": [],
   "source": [
    "import datasets as dt\n",
    "import models.SpinalNet as snet # needs images.to(\"cuda\")\n",
    "import models.CapsuleNetwork as cnet\n",
    "from torch.utils.data import DataLoader\n",
    "from torch import Tensor, argmax, mean\n",
    "import numpy as np\n",
    "import matplotlib.pyplot as plt\n",
    "import torch\n",
    "from torchvision.transforms.functional import normalize\n",
    "\n",
    "# Same-sized input\n",
    "dataset = dt.get_historical_dataset(\"raw\")\n",
    "raw_loader = DataLoader(dataset, 128, num_workers=4, shuffle=True)\n",
    "model = snet.get_model()\n",
    "model.eval()\n",
    "\n",
    "n_correct = 0\n",
    "count = 0\n",
    "\n",
    "for images, labels in raw_loader:\n",
    "    with torch.no_grad():\n",
    "        preds: Tensor  = model(images.to(\"cuda\"))\n",
    "        n_correct += sum(torch.max(preds.data, 1)[1].cpu() == labels).item()\n",
    "        count += labels.size(0)\n",
    "        print(f\"Partial accuracy: {n_correct / count}\", flush=True)\n",
    "\n",
    "accuracy = n_correct / count"
   ]
  },
  {
   "cell_type": "code",
   "execution_count": null,
   "metadata": {},
   "outputs": [
    {
     "data": {
      "text/plain": [
       "0.9107446808510639"
      ]
     },
     "execution_count": 2,
     "metadata": {},
     "output_type": "execute_result"
    }
   ],
   "source": [
    "accuracy"
   ]
  },
  {
   "cell_type": "code",
   "execution_count": 37,
   "metadata": {},
   "outputs": [
    {
     "data": {
      "image/png": "[encoded data removed]",
      "text/plain": [
       "<Figure size 640x480 with 1 Axes>"
      ]
     },
     "metadata": {},
     "output_type": "display_data"
    },
    {
     "data": {
      "text/plain": [
       "tensor([[44, 41, 44, 41, 41,  6, 16, 14, 10, 38, 26, 14, 16, 33, 18, 10]])"
      ]
     },
     "execution_count": 37,
     "metadata": {},
     "output_type": "execute_result"
    }
   ],
   "source": [
    "img = dataset.__getitem__(5)[0]\n",
    "\n",
    "plt.imshow(img.permute(1, 2, 0).numpy(), cmap=\"grey\")\n",
    "plt.show()\n",
    "\n",
    "res:Tensor = model(torch.unsqueeze(img, 0))[0]\n",
    "res.argmax(axis=1)"
   ]
  },
  {
   "cell_type": "code",
   "execution_count": 22,
   "metadata": {},
   "outputs": [
    {
     "name": "stdout",
     "output_type": "stream",
     "text": [
      "tensor(0.5078)\n"
     ]
    }
   ],
   "source": [
    "idx_to_class = {idx: cls for cls, idx in dt.EMNIST_TEST.class_to_idx.items()}\n",
    "\n",
    "#pred_labels = np.vectorize(idx_to_class.get)(preds)\n",
    "#actual_labels = np.vectorize(idx_to_class.get)(labels)\n",
    "print(sum(torch.max(preds.data, 1)[1].cpu() == labels) / len(labels))"
   ]
  }
 ],
 "metadata": {
  "kernelspec": {
   "display_name": "Python 3",
   "language": "python",
   "name": "python3"
  },
  "language_info": {
   "codemirror_mode": {
    "name": "ipython",
    "version": 3
   },
   "file_extension": ".py",
   "mimetype": "text/x-python",
   "name": "python",
   "nbconvert_exporter": "python",
   "pygments_lexer": "ipython3",
   "version": "3.11.5"
  }
 },
 "nbformat": 4,
 "nbformat_minor": 2
}
