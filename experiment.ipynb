{
 "cells": [
  {
   "cell_type": "code",
   "execution_count": 17,
   "metadata": {},
   "outputs": [],
   "source": [
    "from typing import Union\n",
    "import datasets as dt\n",
    "import models.SpinalNet as snet # needs images.to(\"cuda\")\n",
    "import models.CapsuleNetwork as cnet\n",
    "from torch.utils.data import DataLoader\n",
    "from torch import Tensor\n",
    "import numpy as np\n",
    "import matplotlib.pyplot as plt\n",
    "import torch\n",
    "from tqdm.notebook import tqdm\n",
    "from collections import Counter\n",
    "from os.path import relpath\n",
    "from json import dump\n",
    "from pathlib import Path\n",
    "\n",
    "device = \"cuda\"\n",
    "\n",
    "dataset_name = \"dida_clean\"\n",
    "transform = \"binary\"\n",
    "model = \"capsnet\"\n",
    "experiment_name = f\"{model}_{dataset_name}_{transform}\"\n",
    "\n",
    "# Same-sized input\n",
    "dataset = dt.get_historical_dataset(transform)\n",
    "raw_loader = DataLoader(dataset, 128, num_workers=4, shuffle=True)\n",
    "idx_to_class = {idx: cls for cls, idx in dataset.class_to_idx.items()}"
   ]
  },
  {
   "cell_type": "code",
   "execution_count": 5,
   "metadata": {},
   "outputs": [
    {
     "data": {
      "image/png": "[encoded data removed]",
      "text/plain": [
       "<Figure size 640x480 with 1 Axes>"
      ]
     },
     "metadata": {},
     "output_type": "display_data"
    }
   ],
   "source": [
    "import seaborn as sns\n",
    "sns.set_theme(\"paper\", \"whitegrid\")\n",
    "\n",
    "classes = dict(Counter(dataset.targets))\n",
    "classes = {idx_to_class[idx]: count for idx, count in classes.items()}\n",
    "\n",
    "plot = sns.barplot(classes)\n",
    "plot.set_title(\"Class counts for historical dataset\")\n",
    "plot.set_xlabel(\"Target class\")\n",
    "plot.set_ylabel(\"Count\")\n",
    "plt.savefig(f\"./imgs/{dataset_name}_count.pdf\")"
   ]
  },
  {
   "cell_type": "code",
   "execution_count": 18,
   "metadata": {},
   "outputs": [
    {
     "data": {
      "application/vnd.jupyter.widget-view+json": {
       "model_id": "330ed4c8d7c44c1eb7bcf06762782b5a",
       "version_major": 2,
       "version_minor": 0
      },
      "text/plain": [
       "  0%|          | 0/1958 [00:00<?, ?it/s]"
      ]
     },
     "metadata": {},
     "output_type": "display_data"
    },
    {
     "name": "stderr",
     "output_type": "stream",
     "text": [
      "C:\\Users\\stefa\\AppData\\Local\\Temp\\ipykernel_4248\\3853577546.py:51: RuntimeWarning: invalid value encountered in divide\n",
      "  char_accuracy = n_correct_chars / count_chars\n"
     ]
    }
   ],
   "source": [
    "model = snet.get_model() if model == \"spinalnet\" else cnet.get_model()\n",
    "model = model.to(device)\n",
    "model.eval()\n",
    "\n",
    "n_correct_chars = np.zeros(len(dt.EMNIST_TRAIN.classes))\n",
    "count_chars = np.zeros(len(dt.EMNIST_TRAIN.classes))\n",
    "\n",
    "remapping = {\n",
    "    36: 10,\n",
    "    37: 11,\n",
    "    38: 13,\n",
    "    39: 14,\n",
    "    40: 15,\n",
    "    41: 16,\n",
    "    42: 17,\n",
    "    43: 23,\n",
    "    44: 26,\n",
    "    45: 27,\n",
    "    46: 29,\n",
    "}\n",
    "mapper = lambda x: remapping.get(x, x)\n",
    "decoder = {v: k for k, v in dt.EMNIST_TRAIN.class_to_idx.items()}\n",
    "\n",
    "with open(f\"./{experiment_name}_results.csv\", \"w\") as f:\n",
    "    f.write(\"image,predicted,true\\n\")\n",
    "\n",
    "pbar = tqdm(raw_loader)\n",
    "for images, labels, file_names in pbar:\n",
    "    with torch.no_grad():\n",
    "        preds: Union[tuple[Tensor, Tensor, Tensor], Tensor] = model(images.to(device))\n",
    "        if isinstance(preds, tuple):\n",
    "            preds = preds[2].to(\"cpu\")\n",
    "        else:\n",
    "            preds = torch.max(preds.data, 1)[1].to(\"cpu\")\n",
    "\n",
    "        preds = Tensor([mapper(pred.item()) for pred in preds]).int()\n",
    "        correct_labels = preds == labels\n",
    "\n",
    "        with open(f\"./{experiment_name}_results.csv\", \"a\") as f:\n",
    "            for path, pred, label in zip(file_names, preds, labels):\n",
    "                f.write(\n",
    "                    f\"{Path(relpath(path, '.')).as_posix()},{decoder[pred.item()]},{idx_to_class[label.item()]}\\n\"\n",
    "                )\n",
    "\n",
    "        np.add.at(n_correct_chars, labels[correct_labels], 1)\n",
    "        np.add.at(count_chars, labels, 1)\n",
    "        pbar.set_description(\n",
    "            f\"Partial accuracy: {np.sum(n_correct_chars) / np.sum(count_chars):.5f}\"\n",
    "        )\n",
    "\n",
    "char_accuracy = n_correct_chars / count_chars"
   ]
  },
  {
   "cell_type": "code",
   "execution_count": 19,
   "metadata": {},
   "outputs": [],
   "source": [
    "character_accuracy = {}\n",
    "\n",
    "for idx, acc in enumerate(char_accuracy):\n",
    "    if not np.isnan(acc):\n",
    "        character_accuracy[idx_to_class[idx]] = acc\n",
    "\n",
    "with open(f\"./json/{experiment_name}_class_accuracy.json\", \"w\") as f:\n",
    "    dump(character_accuracy, f, indent=4)"
   ]
  }
 ],
 "metadata": {
  "kernelspec": {
   "display_name": "Python 3",
   "language": "python",
   "name": "python3"
  },
  "language_info": {
   "codemirror_mode": {
    "name": "ipython",
    "version": 3
   },
   "file_extension": ".py",
   "mimetype": "text/x-python",
   "name": "python",
   "nbconvert_exporter": "python",
   "pygments_lexer": "ipython3",
   "version": "3.11.5"
  }
 },
 "nbformat": 4,
 "nbformat_minor": 2
}
